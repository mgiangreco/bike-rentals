{
 "cells": [
  {
   "cell_type": "markdown",
   "metadata": {},
   "source": [
    "# Predicting Hourly Bike Rentals"
   ]
  },
  {
   "cell_type": "markdown",
   "metadata": {},
   "source": [
    "### I. Descriptive Analysis"
   ]
  },
  {
   "cell_type": "markdown",
   "metadata": {},
   "source": [
    "#### First we read in the dataset, perform some basic formatting, and examine the first 5 rows."
   ]
  },
  {
   "cell_type": "code",
   "execution_count": 959,
   "metadata": {
    "collapsed": false
   },
   "outputs": [
    {
     "name": "stdout",
     "output_type": "stream",
     "text": [
      "                      atemp  count  holiday  humidity  season  temp  weather  \\\n",
      "datetime                                                                       \n",
      "2011-01-01 00:00:00  14.395   16.0        0        81       1  9.84        1   \n",
      "2011-01-01 01:00:00  13.635   40.0        0        80       1  9.02        1   \n",
      "2011-01-01 02:00:00  13.635   32.0        0        80       1  9.02        1   \n",
      "2011-01-01 03:00:00  14.395   13.0        0        75       1  9.84        1   \n",
      "2011-01-01 04:00:00  14.395    1.0        0        75       1  9.84        1   \n",
      "\n",
      "                     windspeed  workingday  \n",
      "datetime                                    \n",
      "2011-01-01 00:00:00        0.0           0  \n",
      "2011-01-01 01:00:00        0.0           0  \n",
      "2011-01-01 02:00:00        0.0           0  \n",
      "2011-01-01 03:00:00        0.0           0  \n",
      "2011-01-01 04:00:00        0.0           0  \n"
     ]
    }
   ],
   "source": [
    "#!/usr/bin/env python\n",
    "\n",
    "%matplotlib inline\n",
    "import pandas as pd\n",
    "import matplotlib.pyplot as plt\n",
    "import matplotlib.dates as mdates\n",
    "import seaborn as sns\n",
    "import datetime as dt\n",
    "from sklearn.ensemble import RandomForestRegressor\n",
    "from sklearn.svm import SVR\n",
    "from sklearn.grid_search import GridSearchCV\n",
    "from sklearn.linear_model import LinearRegression\n",
    "from sklearn import ensemble\n",
    "from sklearn.metrics import mean_squared_error\n",
    "from sklearn.cross_validation import train_test_split\n",
    "from sklearn import preprocessing\n",
    "\n",
    "\n",
    "# Read in the \"train.csv\" dataset\n",
    "\n",
    "train_df = pd.read_csv('/Users/mgiangreco/Documents/wonder/train.csv')\n",
    "\n",
    "\n",
    "# Since the 'casual' and 'registered' fields are not available in the 'test.csv' \n",
    "# file for which we're making predictions, we will drop them\n",
    "\n",
    "train_df.drop(['casual', 'registered'], axis=1, inplace=True)\n",
    "\n",
    "\n",
    "# Read in the \"test.csv\" dataset \n",
    "\n",
    "test_df = pd.read_csv('/Users/mgiangreco/Documents/wonder/test.csv')\n",
    "\n",
    "\n",
    "# Merge the datasets together -- the value of 'count' will be NaN for rows in test set\n",
    "\n",
    "df = pd.concat([train_df, test_df])\n",
    "\n",
    "\n",
    "# Convert 'datetime' column to Python datetime format and set to index \n",
    "\n",
    "df['datetime'] =  pd.to_datetime(df['datetime'])\n",
    "\n",
    "df.set_index(['datetime'], inplace=True)\n",
    "\n",
    "\n",
    "# Examine dataframe\n",
    "\n",
    "print(df.head(5))"
   ]
  },
  {
   "cell_type": "markdown",
   "metadata": {},
   "source": [
    "#### Let's take a closer look at 'count', the variable we're ultimately trying to predict."
   ]
  },
  {
   "cell_type": "code",
   "execution_count": 960,
   "metadata": {
    "collapsed": false
   },
   "outputs": [
    {
     "data": {
      "text/plain": [
       "count    10886.000000\n",
       "mean       191.574132\n",
       "std        181.144454\n",
       "min          1.000000\n",
       "25%         42.000000\n",
       "50%        145.000000\n",
       "75%        284.000000\n",
       "max        977.000000\n",
       "Name: count, dtype: float64"
      ]
     },
     "execution_count": 960,
     "metadata": {},
     "output_type": "execute_result"
    }
   ],
   "source": [
    "df['count'].describe()"
   ]
  },
  {
   "cell_type": "markdown",
   "metadata": {},
   "source": [
    "#### Since the hourly counts have a high standard deviation, let's resample into daily intervals before plotting."
   ]
  },
  {
   "cell_type": "code",
   "execution_count": 961,
   "metadata": {
    "collapsed": false
   },
   "outputs": [
    {
     "data": {
      "image/png": "[encoded data removed]",
      "text/plain": [
       "<matplotlib.figure.Figure at 0x116276510>"
      ]
     },
     "metadata": {},
     "output_type": "display_data"
    }
   ],
   "source": [
    "# Resample into daily intervals\n",
    "\n",
    "df_daily = df.groupby(pd.Grouper(freq='D', \n",
    "                                 closed='left', \n",
    "                                 label='left'))['count'].sum()\n",
    "\n",
    "\n",
    "# Visualize as a scatter plot\n",
    "\n",
    "years = mdates.YearLocator()\n",
    "months = mdates.MonthLocator()\n",
    "monthsFmt = mdates.DateFormatter('%b') \n",
    "yearsFmt = mdates.DateFormatter('\\n\\n%Y')  \n",
    "dts = df_daily.index.to_pydatetime()\n",
    "rentals = df_daily.iloc[:].tolist()\n",
    "\n",
    "fig = plt.figure(); ax = fig.add_subplot(111)\n",
    "ax.plot(dts, rentals)\n",
    "ax.xaxis.set_minor_locator(months)\n",
    "ax.xaxis.set_minor_formatter(monthsFmt)\n",
    "plt.setp(ax.xaxis.get_minorticklabels(), rotation=90)\n",
    "ax.xaxis.set_major_locator(years)\n",
    "ax.xaxis.set_major_formatter(yearsFmt)\n",
    "\n",
    "plt.ylabel('Daily Bike Rentals')\n",
    "plt.title('Bike Rentals, 2011-2012');"
   ]
  },
  {
   "cell_type": "markdown",
   "metadata": {},
   "source": [
    "#### The series has an upward trend, as well as a seasonal component (more rentals in summer). Zooming in a bit, we can see that there's some interday volatility, as well as missing data at the end of each month corresponding to the values we will be predicting."
   ]
  },
  {
   "cell_type": "code",
   "execution_count": 962,
   "metadata": {
    "collapsed": false
   },
   "outputs": [
    {
     "data": {
      "image/png": "[encoded data removed]",
      "text/plain": [
       "<matplotlib.figure.Figure at 0x113fcb190>"
      ]
     },
     "metadata": {},
     "output_type": "display_data"
    }
   ],
   "source": [
    "days = mdates.DayLocator()\n",
    "daysFmt = mdates.DateFormatter('\\n\\n%d')\n",
    "\n",
    "\n",
    "fig = plt.figure(); ax = fig.add_subplot(111)\n",
    "ax.plot(dts, rentals)\n",
    "ax.set_xlim([dt.date(2012, 6, 1), dt.date(2012, 9, 1)])\n",
    "ax.plot(dts, rentals)\n",
    "ax.xaxis.set_minor_locator(months)\n",
    "ax.xaxis.set_minor_formatter(monthsFmt)\n",
    "plt.setp(ax.xaxis.get_minorticklabels(), rotation=90)\n",
    "ax.xaxis.set_major_formatter(daysFmt)\n",
    "\n",
    "plt.ylabel('Daily Bike Rentals')\n",
    "plt.title('Bike Rentals, Summer 2012');"
   ]
  },
  {
   "cell_type": "markdown",
   "metadata": {},
   "source": [
    "#### Temperature ('temp') seems like it would have an obvious impact on bike ridership. A plot confirms an overall upward sloping trend, though it's not clear that the relationship is strictly linear."
   ]
  },
  {
   "cell_type": "code",
   "execution_count": 963,
   "metadata": {
    "collapsed": false
   },
   "outputs": [
    {
     "data": {
      "image/png": "[encoded data removed]",
      "text/plain": [
       "<matplotlib.figure.Figure at 0x117b79d50>"
      ]
     },
     "metadata": {},
     "output_type": "display_data"
    }
   ],
   "source": [
    "# Plot average hourly ridership count against temperature\n",
    "\n",
    "df_weekly = df[['count', 'temp']].resample('W').mean()\n",
    "\n",
    "sns.regplot(x='temp', y='count', data=df_weekly); "
   ]
  },
  {
   "cell_type": "markdown",
   "metadata": {},
   "source": [
    "### II. Feature Engineering"
   ]
  },
  {
   "cell_type": "markdown",
   "metadata": {},
   "source": [
    "#### Although the dataset is technically a time series, we can add some time-based features and reframe the prediction task as a supervised learning problem. Given what we've learned about trend and seasonality, we need to create features that capture these attributes."
   ]
  },
  {
   "cell_type": "code",
   "execution_count": 964,
   "metadata": {
    "collapsed": false
   },
   "outputs": [],
   "source": [
    "# Add a column for days since first date in dataset\n",
    "\n",
    "df['days_since_first_date'] = (df.index.date - (df.index.date.min()))\n",
    "\n",
    "df['days_since_first_date'] = df['days_since_first_date'].astype('timedelta64[D]').astype(int)"
   ]
  },
  {
   "cell_type": "code",
   "execution_count": 965,
   "metadata": {
    "collapsed": false
   },
   "outputs": [],
   "source": [
    "# Add dummy variables for hour of day\n",
    "\n",
    "df['hour_of_day'] = df.index.hour\n",
    "\n",
    "df_hod = pd.get_dummies(df['hour_of_day'], \n",
    "                        prefix='hour')\n",
    "\n",
    "df = pd.concat([df, df_hod], axis=1)\n",
    "\n",
    "df.drop('hour_of_day', axis=1, inplace=True)"
   ]
  },
  {
   "cell_type": "code",
   "execution_count": 966,
   "metadata": {
    "collapsed": true
   },
   "outputs": [],
   "source": [
    "# Add dummy variables for day of week\n",
    "\n",
    "df['day_of_week'] = df.index.dayofweek\n",
    "\n",
    "df_dow = pd.get_dummies(df['day_of_week'], \n",
    "                        prefix='dow')\n",
    "\n",
    "df = pd.concat([df, df_dow], axis=1)\n",
    "\n",
    "df.drop('day_of_week', axis=1, inplace=True)"
   ]
  },
  {
   "cell_type": "code",
   "execution_count": 967,
   "metadata": {
    "collapsed": true
   },
   "outputs": [],
   "source": [
    "# Add dummy variables for month of year\n",
    "\n",
    "df['month_of_year'] = df.index.month\n",
    "\n",
    "df_moy = pd.get_dummies(df['month_of_year'], \n",
    "                        prefix='month')\n",
    "\n",
    "df = pd.concat([df, df_moy], axis=1)\n",
    "\n",
    "df.drop('month_of_year', axis=1, inplace=True)"
   ]
  },
  {
   "cell_type": "markdown",
   "metadata": {},
   "source": [
    "#### 'Weather' and \"season\" are currently incorrectly encoded as a continuous variables--let's encode them as dummy variables."
   ]
  },
  {
   "cell_type": "code",
   "execution_count": 968,
   "metadata": {
    "collapsed": true
   },
   "outputs": [],
   "source": [
    "# One-hot-encode 'weather' and 'season' variables\n",
    "\n",
    "df_weather = pd.get_dummies(df['weather'], \n",
    "                            prefix='weather')\n",
    "\n",
    "df = pd.concat([df, df_weather], axis=1)\n",
    "\n",
    "df.drop('weather', axis=1, inplace=True)\n",
    "\n",
    "\n",
    "df_season = pd.get_dummies(df['season'], \n",
    "                            prefix='season')\n",
    "\n",
    "df = pd.concat([df, df_season], axis=1)\n",
    "\n",
    "df.drop('season', axis=1, inplace=True)"
   ]
  },
  {
   "cell_type": "markdown",
   "metadata": {},
   "source": [
    "#### Here's our processed dataset."
   ]
  },
  {
   "cell_type": "code",
   "execution_count": 969,
   "metadata": {
    "collapsed": false
   },
   "outputs": [
    {
     "name": "stdout",
     "output_type": "stream",
     "text": [
      "Index([u'atemp', u'count', u'holiday', u'humidity', u'temp', u'windspeed',\n",
      "       u'workingday', u'days_since_first_date', u'hour_0', u'hour_1',\n",
      "       u'hour_2', u'hour_3', u'hour_4', u'hour_5', u'hour_6', u'hour_7',\n",
      "       u'hour_8', u'hour_9', u'hour_10', u'hour_11', u'hour_12', u'hour_13',\n",
      "       u'hour_14', u'hour_15', u'hour_16', u'hour_17', u'hour_18', u'hour_19',\n",
      "       u'hour_20', u'hour_21', u'hour_22', u'hour_23', u'dow_0', u'dow_1',\n",
      "       u'dow_2', u'dow_3', u'dow_4', u'dow_5', u'dow_6', u'month_1',\n",
      "       u'month_2', u'month_3', u'month_4', u'month_5', u'month_6', u'month_7',\n",
      "       u'month_8', u'month_9', u'month_10', u'month_11', u'month_12',\n",
      "       u'weather_1', u'weather_2', u'weather_3', u'weather_4', u'season_1',\n",
      "       u'season_2', u'season_3', u'season_4'],\n",
      "      dtype='object')\n",
      "             atemp  count  holiday  humidity  temp  windspeed  workingday  \\\n",
      "datetime                                                                    \n",
      "2011-01-01  14.395   16.0        0        81  9.84        0.0           0   \n",
      "\n",
      "            days_since_first_date  hour_0  hour_1    ...     month_11  \\\n",
      "datetime                                             ...                \n",
      "2011-01-01                      0       1       0    ...            0   \n",
      "\n",
      "            month_12  weather_1  weather_2  weather_3  weather_4  season_1  \\\n",
      "datetime                                                                     \n",
      "2011-01-01         0          1          0          0          0         1   \n",
      "\n",
      "            season_2  season_3  season_4  \n",
      "datetime                                  \n",
      "2011-01-01         0         0         0  \n",
      "\n",
      "[1 rows x 59 columns]\n"
     ]
    }
   ],
   "source": [
    "print(df.columns)\n",
    "print(df.head(1))"
   ]
  },
  {
   "cell_type": "markdown",
   "metadata": {},
   "source": [
    "### III. Model Selection"
   ]
  },
  {
   "cell_type": "markdown",
   "metadata": {},
   "source": [
    "#### Before starting the modeling process, we need to reserve a holdout set from our training dataset to help us guard against overfitting."
   ]
  },
  {
   "cell_type": "code",
   "execution_count": 970,
   "metadata": {
    "collapsed": false
   },
   "outputs": [],
   "source": [
    "# Move 'count' column to first position \n",
    "\n",
    "cols = list(df)\n",
    "cols.insert(0, cols.pop(cols.index('count')))\n",
    "df = df.loc[:, cols]\n",
    "\n",
    "\n",
    "# Separate dependent from independent variables in training set\n",
    "\n",
    "train_df_processed = df[df['count'].notnull()]\n",
    "\n",
    "X = train_df_processed.iloc[:, 1:]\n",
    "y = train_df_processed['count']\n",
    "\n",
    "\n",
    "# Split into 85% train, 15% test\n",
    "\n",
    "X_train, X_holdout, y_train, y_holdout = train_test_split(X, y, test_size=0.15, \n",
    "                                                    random_state=2017)"
   ]
  },
  {
   "cell_type": "markdown",
   "metadata": {},
   "source": [
    "#### Let's start with basic OLS regression to get a baseline."
   ]
  },
  {
   "cell_type": "code",
   "execution_count": 971,
   "metadata": {
    "collapsed": false
   },
   "outputs": [
    {
     "name": "stdout",
     "output_type": "stream",
     "text": [
      "OLS| MSE train: 9942.880, holdout: 10647.041\n"
     ]
    }
   ],
   "source": [
    "# Specify linear regression model\n",
    "\n",
    "ols = LinearRegression(normalize=True)\n",
    "\n",
    "\n",
    "# Fit the model to the \n",
    "\n",
    "ols.fit(X_train, y_train)\n",
    "\n",
    "\n",
    "# Print prediction accuracy\n",
    "\n",
    "y_train_pred = ols.predict(X_train)\n",
    "y_holdout_pred = ols.predict(X_holdout)\n",
    "\n",
    "print ('OLS| MSE train: %.3f, holdout: %.3f' % (mean_squared_error(y_train, y_train_pred), \n",
    "                                        mean_squared_error(y_holdout, y_holdout_pred)))"
   ]
  },
  {
   "cell_type": "markdown",
   "metadata": {},
   "source": [
    "#### Now we try a random forest, an algorithm that detects non-linear feature interactions. Our random forest performs better than OLS regression, suggesting that there may be some non-linearity to our data. Note that this particular random forest model appears to slightly overfit our training data."
   ]
  },
  {
   "cell_type": "code",
   "execution_count": 972,
   "metadata": {
    "collapsed": false
   },
   "outputs": [
    {
     "name": "stdout",
     "output_type": "stream",
     "text": [
      "{'max_depth': None, 'min_samples_leaf': 25}\n"
     ]
    }
   ],
   "source": [
    "# Specify random forest regression model\n",
    "\n",
    "rfr = RandomForestRegressor(criterion='mse', \n",
    "                            n_estimators=500,\n",
    "                            bootstrap=True, \n",
    "                            oob_score=False, \n",
    "                            n_jobs= -1, \n",
    "                            random_state=148) \n",
    "\n",
    "\n",
    "# Grid search to find optimal hyperparameters\n",
    "\n",
    "param_grid = { \n",
    "    'max_depth': [None, 25, 50],\n",
    "    'min_samples_leaf': [25, 50, 75]\n",
    "}\n",
    "\n",
    "CV_rfr = GridSearchCV(estimator=rfr, param_grid=param_grid, \n",
    "                      scoring='neg_mean_squared_error')\n",
    "CV_rfr.fit(X_train, y_train)\n",
    "print CV_rfr.best_params_"
   ]
  },
  {
   "cell_type": "code",
   "execution_count": 973,
   "metadata": {
    "collapsed": false
   },
   "outputs": [
    {
     "name": "stdout",
     "output_type": "stream",
     "text": [
      "Random Forest| MSE train: 6330.419, holdout: 7879.542\n"
     ]
    }
   ],
   "source": [
    "# Fit the optimal model to the data\n",
    "\n",
    "rfr = CV_rfr.best_estimator_\n",
    "\n",
    "rfr.fit(X_train, y_train)\n",
    "\n",
    "# Print prediction accuracy\n",
    "y_train_pred = rfr.predict(X_train)\n",
    "y_holdout_pred = rfr.predict(X_holdout)\n",
    "\n",
    "print ('Random Forest| MSE train: %.3f, holdout: %.3f' % (mean_squared_error(y_train, y_train_pred), \n",
    "                                        mean_squared_error(y_holdout, y_holdout_pred)))\n"
   ]
  },
  {
   "cell_type": "markdown",
   "metadata": {},
   "source": [
    "#### When we look at the random forest features, in order of importance, the list makes sense: the top-ranked features (holiday, workingday, temp) seem relevant to our problem, while the bottom-ranked features (weather, season) are likely redundant in the context of other available features."
   ]
  },
  {
   "cell_type": "code",
   "execution_count": 974,
   "metadata": {
    "collapsed": false
   },
   "outputs": [
    {
     "name": "stdout",
     "output_type": "stream",
     "text": [
      " 1) atemp                          0.181495\n",
      " 2) holiday                        0.161422\n",
      " 3) humidity                       0.121143\n",
      " 4) temp                           0.109153\n",
      " 5) windspeed                      0.075891\n",
      " 6) workingday                     0.073192\n",
      " 7) days_since_first_date          0.061784\n",
      " 8) hour_0                         0.026898\n",
      " 9) hour_1                         0.017869\n",
      "10) hour_2                         0.016990\n",
      "11) hour_3                         0.016870\n",
      "12) hour_4                         0.016752\n",
      "13) hour_5                         0.016325\n",
      "14) hour_6                         0.015870\n",
      "15) hour_7                         0.014216\n",
      "16) hour_8                         0.009914\n",
      "17) hour_9                         0.009178\n",
      "18) hour_10                        0.007027\n",
      "19) hour_11                        0.006811\n",
      "20) hour_12                        0.006639\n",
      "21) hour_13                        0.004907\n",
      "22) hour_14                        0.004634\n",
      "23) hour_15                        0.003840\n",
      "24) hour_16                        0.003366\n",
      "25) hour_17                        0.001943\n",
      "26) hour_18                        0.001632\n",
      "27) hour_19                        0.001592\n",
      "28) hour_20                        0.001349\n",
      "29) hour_21                        0.001320\n",
      "30) hour_22                        0.001315\n",
      "31) hour_23                        0.001012\n",
      "32) dow_0                          0.000916\n",
      "33) dow_1                          0.000905\n",
      "34) dow_2                          0.000749\n",
      "35) dow_3                          0.000589\n",
      "36) dow_4                          0.000509\n",
      "37) dow_5                          0.000497\n",
      "38) dow_6                          0.000440\n",
      "39) month_1                        0.000435\n",
      "40) month_2                        0.000402\n",
      "41) month_3                        0.000386\n",
      "42) month_4                        0.000285\n",
      "43) month_5                        0.000244\n",
      "44) month_6                        0.000201\n",
      "45) month_7                        0.000185\n",
      "46) month_8                        0.000160\n",
      "47) month_9                        0.000147\n",
      "48) month_10                       0.000134\n",
      "49) month_11                       0.000107\n",
      "50) month_12                       0.000090\n",
      "51) weather_1                      0.000063\n",
      "52) weather_2                      0.000059\n",
      "53) weather_3                      0.000048\n",
      "54) weather_4                      0.000041\n",
      "55) season_1                       0.000034\n",
      "56) season_2                       0.000025\n",
      "57) season_3                       0.000000\n",
      "58) season_4                       0.000000\n"
     ]
    }
   ],
   "source": [
    "importances = rfr.feature_importances_\n",
    "\n",
    "indices = np.argsort(importances)[::-1]\n",
    "feat_labels = df.columns[1:]\n",
    "\n",
    "for f in range(X_train.shape[1]):\n",
    "    print (\"%2d) %-*s %f\" % (f + 1, 30,\n",
    "                            feat_labels[f],\n",
    "                            importances[indices[f]]))"
   ]
  },
  {
   "cell_type": "markdown",
   "metadata": {},
   "source": [
    "#### When we implement a gradient boosting machine, another tree-based algorithm, we get a significant improvement in performance. MSE of 3249 on the holdout set means that our model is off by about 57 rentals, on average."
   ]
  },
  {
   "cell_type": "code",
   "execution_count": 975,
   "metadata": {
    "collapsed": false
   },
   "outputs": [
    {
     "name": "stdout",
     "output_type": "stream",
     "text": [
      "{'n_estimators': 200, 'learning_rate': 0.1, 'max_depth': 4, 'min_samples_leaf': 75}\n"
     ]
    }
   ],
   "source": [
    "# Specify gradient boosting regressor\n",
    "\n",
    "est = ensemble.GradientBoostingRegressor()\n",
    "\n",
    "# Grid search to find optimal hyperparameters\n",
    "\n",
    "param_grid = {'learning_rate' : [0.01, 0.1],\n",
    "              'n_estimators' : [100, 200],\n",
    "              'max_depth' : [2, 4],\n",
    "              'min_samples_leaf' : [75, 100]\n",
    "              }\n",
    "\n",
    "gs_cv = GridSearchCV(est, param_grid, n_jobs=-1).fit(X_train, y_train)\n",
    "\n",
    "\n",
    "# Best hyperparameter setting\n",
    "\n",
    "print gs_cv.best_params_"
   ]
  },
  {
   "cell_type": "code",
   "execution_count": 976,
   "metadata": {
    "collapsed": false
   },
   "outputs": [
    {
     "name": "stdout",
     "output_type": "stream",
     "text": [
      "GBM| MSE train: 2735.150, holdout: 3248.627\n"
     ]
    }
   ],
   "source": [
    "# Fit the optimal model to the data\n",
    "\n",
    "gbm = gs_cv.best_estimator_\n",
    "\n",
    "gbm.fit(X_train, y_train)\n",
    "\n",
    "\n",
    "# Print prediction accuracy\n",
    "\n",
    "y_train_pred = gbm.predict(X_train)\n",
    "y_holdout_pred = gbm.predict(X_holdout)\n",
    "\n",
    "print ('GBM| MSE train: %.3f, holdout: %.3f' % (mean_squared_error(y_train, y_train_pred), \n",
    "                                        mean_squared_error(y_holdout, y_holdout_pred)))"
   ]
  },
  {
   "cell_type": "markdown",
   "metadata": {},
   "source": [
    "#### Finally, when we attempt a support vector machine with a Gaussian kernel we achieve even better performance on the training set, but the holdout score tells us that our chosen model likely suffers from severe overfitting, even with regularization. "
   ]
  },
  {
   "cell_type": "code",
   "execution_count": 977,
   "metadata": {
    "collapsed": false
   },
   "outputs": [],
   "source": [
    "# Scale the data \n",
    "\n",
    "X_scaled = preprocessing.scale(X)\n",
    "\n",
    "\n",
    "# Split into 85% train, 15% test\n",
    "\n",
    "X_train_scaled, X_holdout_scaled, y_train, y_holdout = train_test_split(X_scaled, \n",
    "                                                                        y, test_size=0.15,\n",
    "                                                                        random_state=2017)"
   ]
  },
  {
   "cell_type": "code",
   "execution_count": 978,
   "metadata": {
    "collapsed": false
   },
   "outputs": [
    {
     "name": "stdout",
     "output_type": "stream",
     "text": [
      "{'epsilon': 0.5, 'C': 1000, 'gamma': 0.01}\n"
     ]
    }
   ],
   "source": [
    "# Specify support vector regressor with Gaussian kernel\n",
    "\n",
    "svr_rbf = SVR(kernel='rbf')\n",
    "\n",
    "\n",
    "# Grid search to find optimal hyperparameters\n",
    "\n",
    "param_grid = {'C' : [10, 1000, 10000],\n",
    "              'gamma' : [0.01, 0.1],\n",
    "              'epsilon': [0.1, 0.5]\n",
    "              }\n",
    "\n",
    "svr_cv = GridSearchCV(svr_rbf, param_grid, n_jobs=-1).fit(X_train_scaled, y_train)\n",
    "\n",
    "\n",
    "# Best hyperparameter setting\n",
    "\n",
    "print svr_cv.best_params_"
   ]
  },
  {
   "cell_type": "code",
   "execution_count": 979,
   "metadata": {
    "collapsed": false
   },
   "outputs": [
    {
     "name": "stdout",
     "output_type": "stream",
     "text": [
      "SVR| MSE train: 855.832, holdout: 3248.627\n"
     ]
    }
   ],
   "source": [
    "# Fit the optimal model to the data\n",
    "\n",
    "svr = svr_cv.best_estimator_\n",
    "\n",
    "svr.fit(X_train_scaled, y_train)\n",
    "\n",
    "\n",
    "# Print prediction accuracy\n",
    "\n",
    "y_train_pred = svr.predict(X_train_scaled)\n",
    "y_test_pred = svr.predict(X_holdout_scaled)\n",
    "\n",
    "print ('SVR| MSE train: %.3f, holdout: %.3f' % (mean_squared_error(y_train, y_train_pred), \n",
    "                                        mean_squared_error(y_holdout, y_holdout_pred)))"
   ]
  },
  {
   "cell_type": "markdown",
   "metadata": {},
   "source": [
    "### IV. Output Predictions"
   ]
  },
  {
   "cell_type": "markdown",
   "metadata": {},
   "source": [
    "#### Let's make predictions for the test dataset using the best GBM model, storing them in a file called 'preds.csv'. Some predicted values are negative, which is clearly not possible, so we can set those to zero before printing."
   ]
  },
  {
   "cell_type": "code",
   "execution_count": 980,
   "metadata": {
    "collapsed": false
   },
   "outputs": [
    {
     "name": "stdout",
     "output_type": "stream",
     "text": [
      "datetime\n",
      "2011-01-20 00:00:00    -10.358726\n",
      "2011-01-20 01:00:00    -20.023940\n",
      "2011-01-20 02:00:00    -33.236864\n",
      "2011-01-20 03:00:00    -27.400885\n",
      "2011-01-20 04:00:00    -29.233340\n",
      "2011-01-20 05:00:00    -17.729666\n",
      "2011-01-20 06:00:00     14.419782\n",
      "2011-01-20 07:00:00    136.915201\n",
      "2011-01-20 08:00:00    292.619551\n",
      "2011-01-20 09:00:00     92.890567\n",
      "Name: count, dtype: float64\n"
     ]
    },
    {
     "name": "stderr",
     "output_type": "stream",
     "text": [
      "/anaconda/lib/python2.7/site-packages/ipykernel/__main__.py:5: SettingWithCopyWarning: \n",
      "A value is trying to be set on a copy of a slice from a DataFrame\n",
      "\n",
      "See the caveats in the documentation: http://pandas.pydata.org/pandas-docs/stable/indexing.html#indexing-view-versus-copy\n",
      "/anaconda/lib/python2.7/site-packages/ipykernel/__main__.py:12: SettingWithCopyWarning: \n",
      "A value is trying to be set on a copy of a slice from a DataFrame.\n",
      "Try using .loc[row_indexer,col_indexer] = value instead\n",
      "\n",
      "See the caveats in the documentation: http://pandas.pydata.org/pandas-docs/stable/indexing.html#indexing-view-versus-copy\n"
     ]
    }
   ],
   "source": [
    "# Specify the processed test dataframe and drop the 'count' column\n",
    "\n",
    "test_df_processed = df[df['count'].isnull()]\n",
    "\n",
    "test_df_processed.drop(['count'], axis=1, inplace=True)\n",
    "\n",
    "\n",
    "# Make the predictions\n",
    "\n",
    "predictions = gbm.predict(test_df_processed)\n",
    "\n",
    "test_df_processed['count'] = predictions\n",
    "\n",
    "print(test_df_processed['count'].head(10))"
   ]
  },
  {
   "cell_type": "code",
   "execution_count": 981,
   "metadata": {
    "collapsed": false
   },
   "outputs": [
    {
     "name": "stdout",
     "output_type": "stream",
     "text": [
      "datetime\n",
      "2011-01-20 00:00:00      0.000000\n",
      "2011-01-20 01:00:00      0.000000\n",
      "2011-01-20 02:00:00      0.000000\n",
      "2011-01-20 03:00:00      0.000000\n",
      "2011-01-20 04:00:00      0.000000\n",
      "2011-01-20 05:00:00      0.000000\n",
      "2011-01-20 06:00:00     14.419782\n",
      "2011-01-20 07:00:00    136.915201\n",
      "2011-01-20 08:00:00    292.619551\n",
      "2011-01-20 09:00:00     92.890567\n",
      "Name: count, dtype: float64\n"
     ]
    }
   ],
   "source": [
    "# Set negative 'count' estimates to zero\n",
    "\n",
    "test_df_processed.loc[test_df_processed['count']<0,'count'] = 0\n",
    "\n",
    "print(test_df_processed['count'].head(10))"
   ]
  },
  {
   "cell_type": "code",
   "execution_count": 982,
   "metadata": {
    "collapsed": true
   },
   "outputs": [],
   "source": [
    "# Output to csv\n",
    "\n",
    "test_df_processed['count'].to_csv('/Users/mgiangreco/Documents/wonder/preds.csv')"
   ]
  }
 ],
 "metadata": {
  "kernelspec": {
   "display_name": "Python 2",
   "language": "python",
   "name": "python2"
  },
  "language_info": {
   "codemirror_mode": {
    "name": "ipython",
    "version": 2
   },
   "file_extension": ".py",
   "mimetype": "text/x-python",
   "name": "python",
   "nbconvert_exporter": "python",
   "pygments_lexer": "ipython2",
   "version": "2.7.13"
  }
 },
 "nbformat": 4,
 "nbformat_minor": 2
}
